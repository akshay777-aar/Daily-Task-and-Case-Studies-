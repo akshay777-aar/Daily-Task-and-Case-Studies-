{
  "nbformat": 4,
  "nbformat_minor": 0,
  "metadata": {
    "colab": {
      "provenance": [],
      "authorship_tag": "ABX9TyM0DDI4G4qgDhU8/kDqOHMA",
      "include_colab_link": true
    },
    "kernelspec": {
      "name": "python3",
      "display_name": "Python 3"
    },
    "language_info": {
      "name": "python"
    }
  },
  "cells": [
    {
      "cell_type": "markdown",
      "metadata": {
        "id": "view-in-github",
        "colab_type": "text"
      },
      "source": [
        "<a href=\"https://colab.research.google.com/github/akshay777-aar/Daily-Task-and-Case-Studies-/blob/main/Python_Practice_Problems_2.ipynb\" target=\"_parent\"><img src=\"https://colab.research.google.com/assets/colab-badge.svg\" alt=\"Open In Colab\"/></a>"
      ]
    },
    {
      "cell_type": "markdown",
      "source": [
        "1. Write a Python program to accept a string value from the user and display\n",
        "the count of each character in that string."
      ],
      "metadata": {
        "id": "EgJTExjsYnAt"
      }
    },
    {
      "cell_type": "code",
      "source": [
        "word = str(input(\"Enter the word : \"))\n",
        "\n",
        "letters = {}\n",
        "\n",
        "for i in word:\n",
        "    if i in letters:\n",
        "        letters[i] += 1\n",
        "    else:\n",
        "        letters[i] = 1\n",
        "\n",
        "print(\"Count of each character in \",word,\" is :\\n \" + str(letters))"
      ],
      "metadata": {
        "colab": {
          "base_uri": "https://localhost:8080/"
        },
        "id": "EmIpDZOcYtvv",
        "outputId": "1cc709a9-3562-43e7-d060-79e6ff5ea166"
      },
      "execution_count": null,
      "outputs": [
        {
          "output_type": "stream",
          "name": "stdout",
          "text": [
            "Enter the word : Hello\n",
            "Count of each character in  Hello  is :\n",
            " {'H': 1, 'e': 1, 'l': 2, 'o': 1}\n"
          ]
        }
      ]
    },
    {
      "cell_type": "markdown",
      "source": [
        "2. . Write a Python function to find the maximum of three numbers"
      ],
      "metadata": {
        "id": "qOt34yxLaPyK"
      }
    },
    {
      "cell_type": "code",
      "source": [
        "a = int(input(\"Enter first number : \"))\n",
        "b = int(input(\"Enter second number : \"))\n",
        "c = int(input(\"Enter third number : \"))\n",
        "\n",
        "if (a>b) and (a>c):\n",
        "       print(a,\" is the largest number\")\n",
        "elif (b>a) and (b>c):\n",
        "       print(b,\" is the largest number\")\n",
        "else:\n",
        "       print(c,\" is the largest number\")"
      ],
      "metadata": {
        "colab": {
          "base_uri": "https://localhost:8080/"
        },
        "id": "N0Ka4omnS_fQ",
        "outputId": "3f26107b-352b-4262-836a-f99904bf89bd"
      },
      "execution_count": null,
      "outputs": [
        {
          "output_type": "stream",
          "name": "stdout",
          "text": [
            "Enter first number : 10\n",
            "Enter second number : 20\n",
            "Enter third number : 15\n",
            "20  is the largest number\n"
          ]
        }
      ]
    },
    {
      "cell_type": "markdown",
      "source": [
        "3. Write a Python function called exponent(base,exp) that returns an integer value of base raises to the power of exp."
      ],
      "metadata": {
        "id": "xsGxZxQxbGHG"
      }
    },
    {
      "cell_type": "code",
      "source": [
        "def exponent(base,exp):\n",
        "    result = base**exp\n",
        "    print(base,\"raised to\",exp,\":\",result)\n",
        "\n",
        "base = int(input(\"Enter the base value : \"))\n",
        "exp = int(input(\"Enter the power value : \"))\n",
        "exponent(base,exp)"
      ],
      "metadata": {
        "colab": {
          "base_uri": "https://localhost:8080/"
        },
        "id": "b02_SoEcbLCH",
        "outputId": "41929de4-1472-425e-a8eb-ca4635484ae4"
      },
      "execution_count": 10,
      "outputs": [
        {
          "output_type": "stream",
          "name": "stdout",
          "text": [
            "Enter the base value : 2\n",
            "Enter the power value : 8\n",
            "2 raised to 8 : 256\n"
          ]
        }
      ]
    },
    {
      "cell_type": "markdown",
      "source": [
        "4. Write a Python function that takes a positive integer and returns the sum\n",
        "of the cube of all the positive integers smaller than the specified number."
      ],
      "metadata": {
        "id": "5lmYbHZgfuB2"
      }
    },
    {
      "cell_type": "code",
      "source": [
        "n = int(input(\"Enter the number : \"))\n",
        "sum = 0\n",
        "\n",
        "if n>0:\n",
        "   for i in range(1,n):\n",
        "      sum = sum + (n-1)**3\n",
        "      n = n-1\n",
        "   print (\"Sum of the cube of all the +ve integers less than\",n,\"=\",sum)\n",
        "\n",
        "else:\n",
        "   print(\"Enter a valid positive number\")"
      ],
      "metadata": {
        "id": "MmV7MxhOf1dZ",
        "colab": {
          "base_uri": "https://localhost:8080/"
        },
        "outputId": "d4cfed93-d8af-43ca-d92f-42898f9fb8be"
      },
      "execution_count": null,
      "outputs": [
        {
          "output_type": "stream",
          "name": "stdout",
          "text": [
            "Enter the number : 3\n",
            "Sum of the cube of all the +ve integers less than 1 = 9\n"
          ]
        }
      ]
    },
    {
      "cell_type": "markdown",
      "source": [
        "5. Write a Python program which iterates from 1 to 10. For multiples of 2,\n",
        "print “Fizz” instead of the number and for the multiples of 5, print “Buzz”.\n",
        "For numbers which are multiples of both 2 and 5, print “FizzBuzz”."
      ],
      "metadata": {
        "id": "3yrdnBfV-rQF"
      }
    },
    {
      "cell_type": "code",
      "source": [
        "n = 1\n",
        "for i in range(1,11):\n",
        "   if n%2==0 and n%5==0:\n",
        "      print(\"FizzBuzz\")\n",
        "   elif n%2==0:\n",
        "      print(\"Fizz\")\n",
        "   elif n%5==0:\n",
        "      print(\"Buzz\")\n",
        "   else:\n",
        "      print(n)\n",
        "   n+=1"
      ],
      "metadata": {
        "colab": {
          "base_uri": "https://localhost:8080/"
        },
        "id": "A5lDTHFlB3eL",
        "outputId": "bc3741c8-d1c1-41d7-cd28-81b7c114d84e"
      },
      "execution_count": null,
      "outputs": [
        {
          "output_type": "stream",
          "name": "stdout",
          "text": [
            "1\n",
            "Fizz\n",
            "3\n",
            "Fizz\n",
            "Buzz\n",
            "Fizz\n",
            "7\n",
            "Fizz\n",
            "9\n",
            "FizzBuzz\n"
          ]
        }
      ]
    },
    {
      "cell_type": "markdown",
      "source": [
        "6. Write a Python program to find the most frequent item in a list of\n",
        "numbers."
      ],
      "metadata": {
        "id": "JgIWAQudDyGh"
      }
    },
    {
      "cell_type": "code",
      "source": [
        "list = []\n",
        "n = int(input(\"Enter number of elements : \"))\n",
        "\n",
        "for i in range(0, n):\n",
        "    item = input()\n",
        "    list.append(item)\n",
        "\n",
        "def freq(list):\n",
        "\n",
        "    return max(set(list), key = list.count)\n",
        "\n",
        "print(\"Most frequent item is\",freq(list))"
      ],
      "metadata": {
        "colab": {
          "base_uri": "https://localhost:8080/"
        },
        "id": "DpeS7gn1Gn-w",
        "outputId": "2874e377-2fc1-4b2d-a19c-3788f63493f4"
      },
      "execution_count": null,
      "outputs": [
        {
          "output_type": "stream",
          "name": "stdout",
          "text": [
            "Enter number of elements : 4\n",
            "4\n",
            "4\n",
            "5\n",
            "G\n",
            "Most frequent item is 4\n"
          ]
        }
      ]
    },
    {
      "cell_type": "markdown",
      "source": [
        "7. Write a Python program to find the sum of squares of the numbers in a\n",
        "list."
      ],
      "metadata": {
        "id": "1nbXTWBpI3HF"
      }
    },
    {
      "cell_type": "code",
      "source": [
        "list = []\n",
        "n = int(input(\"Enter number of elements : \"))\n",
        "\n",
        "for i in range(0, n):\n",
        "    item = int(input())\n",
        "    list.append(item)\n",
        "print(\"List is :\",list)\n",
        "\n",
        "square = 0\n",
        "for i in list:\n",
        "    square+=i**2\n",
        "print(\"Sum of squares of the numbers in this list =\", square)"
      ],
      "metadata": {
        "colab": {
          "base_uri": "https://localhost:8080/"
        },
        "id": "VmlFJ5zuI_1v",
        "outputId": "8cb235ff-50ba-46e8-ac54-4fca907c93d5"
      },
      "execution_count": null,
      "outputs": [
        {
          "output_type": "stream",
          "name": "stdout",
          "text": [
            "Enter number of elements : 2\n",
            "1\n",
            "2\n",
            "List is : [1, 2]\n",
            "Sum of squares of the numbers in this list = 5\n"
          ]
        }
      ]
    },
    {
      "cell_type": "markdown",
      "source": [
        "8. Write a Python program using for loop that will iterate from 1 to 15. For\n",
        "each iteration, check if the current number is odd or even, and display the\n",
        "message to the screen as odd or even."
      ],
      "metadata": {
        "id": "M3j72bRJLu39"
      }
    },
    {
      "cell_type": "code",
      "source": [
        "n = 1\n",
        "for i in range(1,16):\n",
        "   if n%2==0:\n",
        "      print(n,\" - Even\")\n",
        "   else:\n",
        "      print(n,\" - Odd\")\n",
        "   n+=1"
      ],
      "metadata": {
        "colab": {
          "base_uri": "https://localhost:8080/"
        },
        "id": "TTploixQL4Yh",
        "outputId": "c8d96a1a-161b-48e2-87f8-1fb821dc9b60"
      },
      "execution_count": null,
      "outputs": [
        {
          "output_type": "stream",
          "name": "stdout",
          "text": [
            "1  - Odd\n",
            "2  - Even\n",
            "3  - Odd\n",
            "4  - Even\n",
            "5  - Odd\n",
            "6  - Even\n",
            "7  - Odd\n",
            "8  - Even\n",
            "9  - Odd\n",
            "10  - Even\n",
            "11  - Odd\n",
            "12  - Even\n",
            "13  - Odd\n",
            "14  - Even\n",
            "15  - Odd\n"
          ]
        }
      ]
    },
    {
      "cell_type": "markdown",
      "source": [
        "9. Write a Python program to convert temperatures to and from Celsius\n",
        "Fahrenheit. [Formula: c/5=f-32/9 where c=temperature in Celsius and f=\n",
        "temperature in Fahrenheit.]"
      ],
      "metadata": {
        "id": "kKDd7CuDMVyt"
      }
    },
    {
      "cell_type": "code",
      "source": [
        "tf = input(\"Enter temperature form (C-Celsius, F-Fahrenheit) :\")\n",
        "\n",
        "if tf=='C':\n",
        "   C = float(input(\"Enter temperature in Degree Celsius :\"))\n",
        "else:\n",
        "   F = float(input(\"Enter temperature in Degree Fahrenheit :\"))\n",
        "\n",
        "if tf=='C':\n",
        "   t = (C*9/5)+32\n",
        "   print(C,\"Degree Celsius in Fahrenheit =\",t)\n",
        "else:\n",
        "   t = (F-32)*5/9\n",
        "   print(F,\"Degree Fahrenheit in Celsius =\",t)"
      ],
      "metadata": {
        "colab": {
          "base_uri": "https://localhost:8080/"
        },
        "id": "VQr4nOfOMcca",
        "outputId": "23e8d021-4c59-4b4c-a360-c2c2d4f85676"
      },
      "execution_count": null,
      "outputs": [
        {
          "output_type": "stream",
          "name": "stdout",
          "text": [
            "Enter temperature form (C-Celsius, F-Fahrenheit) :C\n",
            "Enter temperature in Degree Celsius :5\n",
            "5.0 Degree Celsius in Fahrenheit = 41.0\n"
          ]
        }
      ]
    },
    {
      "cell_type": "markdown",
      "source": [
        "10. Write a Python function to calculate the factorial of a number (a\n",
        "nonnegative integer). The function accepts the number as an argument."
      ],
      "metadata": {
        "id": "SZprePvHQPwa"
      }
    },
    {
      "cell_type": "code",
      "source": [
        "n = int(input(\"Enter the number : \"))\n",
        "f=n\n",
        "fact = 1\n",
        "\n",
        "if n>=1:\n",
        "   for i in range(1,n+1):\n",
        "      fact=fact*n\n",
        "      n=n-1\n",
        "   print(\"Factorial of\",f,\"=\",fact)\n",
        "else:\n",
        "   print(\"Enter a valid positive number\")"
      ],
      "metadata": {
        "colab": {
          "base_uri": "https://localhost:8080/"
        },
        "id": "Q9-mB_5vQRNN",
        "outputId": "4951e4a0-3f9d-4589-fd00-d1e9d5877e93"
      },
      "execution_count": null,
      "outputs": [
        {
          "output_type": "stream",
          "name": "stdout",
          "text": [
            "Enter the number : 5\n",
            "Factorial of 5 = 120\n"
          ]
        }
      ]
    }
  ]
}