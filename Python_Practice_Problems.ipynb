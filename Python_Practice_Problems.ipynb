{
  "nbformat": 4,
  "nbformat_minor": 0,
  "metadata": {
    "colab": {
      "provenance": [],
      "authorship_tag": "ABX9TyPxSZalqVq67tW8JjDP+/9A",
      "include_colab_link": true
    },
    "kernelspec": {
      "name": "python3",
      "display_name": "Python 3"
    },
    "language_info": {
      "name": "python"
    }
  },
  "cells": [
    {
      "cell_type": "markdown",
      "metadata": {
        "id": "view-in-github",
        "colab_type": "text"
      },
      "source": [
        "<a href=\"https://colab.research.google.com/github/akshay777-aar/Daily-Task-and-Case-Studies-/blob/main/Python_Practice_Problems.ipynb\" target=\"_parent\"><img src=\"https://colab.research.google.com/assets/colab-badge.svg\" alt=\"Open In Colab\"/></a>"
      ]
    },
    {
      "cell_type": "markdown",
      "source": [
        "1. Write a Python program which accepts the radius of a circle from the user\n",
        "and compute the area."
      ],
      "metadata": {
        "id": "yq1UdzMCPd1k"
      }
    },
    {
      "cell_type": "code",
      "source": [
        "import math\n",
        "r = float(input(\"Enter the radius of the circle : \"))\n",
        "area = math.pi*r**2\n",
        "print(\"Area of the circle = \",area)"
      ],
      "metadata": {
        "id": "-_w6eTo3Pl70",
        "colab": {
          "base_uri": "https://localhost:8080/"
        },
        "outputId": "4cfd11b0-3667-443b-cd1b-ce7b24c85263"
      },
      "execution_count": null,
      "outputs": [
        {
          "output_type": "stream",
          "name": "stdout",
          "text": [
            "Enter the radius of the circle : 3\n",
            "Area of the circle =  28.274333882308138\n"
          ]
        }
      ]
    },
    {
      "cell_type": "markdown",
      "source": [
        "2. Write a Python Program to accept the details of a student like name, roll\n",
        "number and mark and display it."
      ],
      "metadata": {
        "id": "RCLEYtLsRH7n"
      }
    },
    {
      "cell_type": "code",
      "source": [
        "name = input(\"Enter the name of student : \")\n",
        "roll_no = int(input(\"Enter the roll number : \"))\n",
        "mark = float(input(\"Enter the mark : \"))\n",
        "print (\"\\n\")\n",
        "print (\"Name : \",name,)\n",
        "print (\"Roll Number : \",roll_no)\n",
        "print (\"Mark : \",mark)"
      ],
      "metadata": {
        "colab": {
          "base_uri": "https://localhost:8080/"
        },
        "id": "6wSSzX_DSmy2",
        "outputId": "7a6ac94b-821e-404f-fe7b-87b30d49165c"
      },
      "execution_count": null,
      "outputs": [
        {
          "output_type": "stream",
          "name": "stdout",
          "text": [
            "Enter the name of student : Rahul\n",
            "Enter the roll number : 15\n",
            "Enter the mark : 87.5\n",
            "\n",
            "\n",
            "Name :  Rahul\n",
            "Roll Number :  15\n",
            "Mark :  87.5\n"
          ]
        }
      ]
    },
    {
      "cell_type": "markdown",
      "source": [
        "3. Write a Python program to get the largest number from a list."
      ],
      "metadata": {
        "id": "Y5QW2IP4URIH"
      }
    },
    {
      "cell_type": "code",
      "source": [
        "list=[]\n",
        "n=int(input(\"Enter the number of elements : \"))\n",
        "\n",
        "for i in range(n):\n",
        "  num=int(input(\"Enter number: \"))\n",
        "  list.append(num)\n",
        "\n",
        "large=max(list)\n",
        "\n",
        "print(\"Elements in the list: \",list)\n",
        "print(\"Largest number : \",large)"
      ],
      "metadata": {
        "id": "HwGU_gxea336",
        "colab": {
          "base_uri": "https://localhost:8080/"
        },
        "outputId": "4dfcba10-1320-44c5-cf65-d1db6f2ecdc5"
      },
      "execution_count": null,
      "outputs": [
        {
          "output_type": "stream",
          "name": "stdout",
          "text": [
            "Enter the number of elements : 3\n",
            "Enter number: 43\n",
            "Enter number: 36\n",
            "Enter number: 17\n",
            "Elements in the list:  [43, 36, 17]\n",
            "Largest number :  43\n"
          ]
        }
      ]
    },
    {
      "cell_type": "markdown",
      "source": [
        "4. Given a range of first 10 numbers, write a Python program to iterate from\n",
        "start number to the end number and print the sum of the current number\n",
        "and previous number."
      ],
      "metadata": {
        "id": "rJAe0ndygkHm"
      }
    },
    {
      "cell_type": "code",
      "source": [
        "previous=0\n",
        "for current in range(1,11):\n",
        " sum=previous+current\n",
        " print(\"Current number : \",current, \"Previous number : \", previous, \"Sum = \",sum)\n",
        " previous= current"
      ],
      "metadata": {
        "colab": {
          "base_uri": "https://localhost:8080/"
        },
        "id": "gWEDP5p_gpi2",
        "outputId": "3c20e6c0-fcb0-4825-ff26-15c9f0109134"
      },
      "execution_count": null,
      "outputs": [
        {
          "output_type": "stream",
          "name": "stdout",
          "text": [
            "Current number :  1 Previous number :  0 Sum =  1\n",
            "Current number :  2 Previous number :  1 Sum =  3\n",
            "Current number :  3 Previous number :  2 Sum =  5\n",
            "Current number :  4 Previous number :  3 Sum =  7\n",
            "Current number :  5 Previous number :  4 Sum =  9\n",
            "Current number :  6 Previous number :  5 Sum =  11\n",
            "Current number :  7 Previous number :  6 Sum =  13\n",
            "Current number :  8 Previous number :  7 Sum =  15\n",
            "Current number :  9 Previous number :  8 Sum =  17\n",
            "Current number :  10 Previous number :  9 Sum =  19\n"
          ]
        }
      ]
    },
    {
      "cell_type": "markdown",
      "source": [
        "5. Write a Python program to print only those numbers which are divisible\n",
        "of 5."
      ],
      "metadata": {
        "id": "zche0zp0j3DJ"
      }
    },
    {
      "cell_type": "code",
      "source": [
        "l = int(input(\"Enter the limit : \"))\n",
        "for n in range(1,l+1):\n",
        "   if (n%5==0):\n",
        "     print(n)"
      ],
      "metadata": {
        "colab": {
          "base_uri": "https://localhost:8080/"
        },
        "id": "62UxiK1mj9QA",
        "outputId": "294d6874-0853-40bf-fa9b-d71f15975fcb"
      },
      "execution_count": null,
      "outputs": [
        {
          "output_type": "stream",
          "name": "stdout",
          "text": [
            "Enter the limit : 50\n",
            "5\n",
            "10\n",
            "15\n",
            "20\n",
            "25\n",
            "30\n",
            "35\n",
            "40\n",
            "45\n",
            "50\n"
          ]
        }
      ]
    },
    {
      "cell_type": "markdown",
      "source": [
        "6. Write a Python program to check whether a number is prime or not."
      ],
      "metadata": {
        "id": "-iAn9SMGl0ra"
      }
    },
    {
      "cell_type": "code",
      "source": [
        "n = int(input(\"Enter the number : \"))\n",
        "if n>1:\n",
        "  for i in range(2,n):\n",
        "    if (n%i)==0:\n",
        "      print(n, \"is not a prime number\")\n",
        "      break\n",
        "  else:\n",
        "      print(n, \"is a prime number\")\n",
        "\n",
        "else:\n",
        "  print(n, \"is not a prime number\")"
      ],
      "metadata": {
        "colab": {
          "base_uri": "https://localhost:8080/"
        },
        "id": "vgJ8vy28l-NT",
        "outputId": "b5deeaa0-17bf-47b4-f4b7-f354ded7ee4c"
      },
      "execution_count": null,
      "outputs": [
        {
          "output_type": "stream",
          "name": "stdout",
          "text": [
            "Enter the number : 25\n",
            "25 is not a prime number\n"
          ]
        }
      ]
    },
    {
      "cell_type": "markdown",
      "source": [
        "7. Write a Python program to reverse a list using for loop."
      ],
      "metadata": {
        "id": "TRQ8RChjm2k2"
      }
    },
    {
      "cell_type": "code",
      "source": [
        "original = []\n",
        "reverse=[]\n",
        "l = int(input(\"Enter the limit : \"))\n",
        "\n",
        "for i in range(l):\n",
        "    num=int(input(\"Enter numbers : \"))\n",
        "    original.append(num)\n",
        "\n",
        "\n",
        "for x in original[::-1]:\n",
        "    reverse.append(x)\n",
        "\n",
        "print(\"Original list: \", original)\n",
        "\n",
        "print(\"Reverse list: \", reverse)"
      ],
      "metadata": {
        "id": "XBF5xkVVnLKV",
        "colab": {
          "base_uri": "https://localhost:8080/"
        },
        "outputId": "35292037-36ce-4567-b71e-73b05ba2a874"
      },
      "execution_count": null,
      "outputs": [
        {
          "output_type": "stream",
          "name": "stdout",
          "text": [
            "Enter the limit : 3\n",
            "Enter numbers : 13\n",
            "Enter numbers : 16\n",
            "Enter numbers : 10\n",
            "Original list:  [13, 16, 10]\n",
            "Reverse list:  [10, 16, 13]\n"
          ]
        }
      ]
    },
    {
      "cell_type": "markdown",
      "source": [
        "8. Write a Python program to print the following pattern.\n",
        "*\n",
        "\n",
        "**\n",
        "\n",
        "***\n",
        "\n",
        "****"
      ],
      "metadata": {
        "id": "HNTzGDCnrumB"
      }
    },
    {
      "cell_type": "code",
      "source": [
        "n = 0\n",
        "for n in range(1,5):\n",
        "  print(\"* \"*n)\n",
        "  n=n+1"
      ],
      "metadata": {
        "colab": {
          "base_uri": "https://localhost:8080/"
        },
        "id": "MhRYxMxUsBBI",
        "outputId": "86245d5d-6335-47ae-cbc2-1bb5338325b8"
      },
      "execution_count": null,
      "outputs": [
        {
          "output_type": "stream",
          "name": "stdout",
          "text": [
            "* \n",
            "* * \n",
            "* * * \n",
            "* * * * \n"
          ]
        }
      ]
    },
    {
      "cell_type": "markdown",
      "source": [
        "9. Write a Python program to find the maximum of three numbers"
      ],
      "metadata": {
        "id": "z8xv56aIUn4M"
      }
    },
    {
      "cell_type": "code",
      "source": [
        "a = int(input(\"Enter first number : \"))\n",
        "b = int(input(\"Enter second number : \"))\n",
        "c = int(input(\"Enter third number : \"))\n",
        "\n",
        "if (a>b) and (a>c):\n",
        "       print(a,\" is the largest number\")\n",
        "\n",
        "elif (b>a) and (b>c):\n",
        "       print(b,\" is the largest number\")\n",
        "\n",
        "else:\n",
        "       print(c,\" is the largest number\")"
      ],
      "metadata": {
        "colab": {
          "base_uri": "https://localhost:8080/"
        },
        "id": "S6LoLGAUU1FW",
        "outputId": "be6bf39e-6a07-42c5-f63a-744761234a70"
      },
      "execution_count": null,
      "outputs": [
        {
          "output_type": "stream",
          "name": "stdout",
          "text": [
            "Enter first number : 10\n",
            "Enter second number : 43\n",
            "Enter third number : 37\n",
            "43  is the largest number\n"
          ]
        }
      ]
    },
    {
      "cell_type": "markdown",
      "source": [
        "10. Write a Python program to construct the following pattern, using a\n",
        "nested for loop.\n",
        "*\n",
        "**\n",
        "***\n",
        "****\n",
        "*****\n",
        "****\n",
        "***\n",
        "**\n",
        "*"
      ],
      "metadata": {
        "id": "bNfqQN20WOHN"
      }
    },
    {
      "cell_type": "code",
      "source": [
        "n = 5\n",
        "\n",
        "for i in range(n):\n",
        "    for j in range(i):\n",
        "        print('* ', end=\"\")\n",
        "    print('')\n",
        "\n",
        "for i in range(n, 0, -1):\n",
        "    for j in range(i):\n",
        "        print('* ', end=\"\")\n",
        "    print('')"
      ],
      "metadata": {
        "colab": {
          "base_uri": "https://localhost:8080/"
        },
        "id": "3ICspLSNWpdj",
        "outputId": "bee55051-375c-4bb7-da98-525206e2cb8b"
      },
      "execution_count": null,
      "outputs": [
        {
          "output_type": "stream",
          "name": "stdout",
          "text": [
            "\n",
            "* \n",
            "* * \n",
            "* * * \n",
            "* * * * \n",
            "* * * * * \n",
            "* * * * \n",
            "* * * \n",
            "* * \n",
            "* \n"
          ]
        }
      ]
    }
  ]
}